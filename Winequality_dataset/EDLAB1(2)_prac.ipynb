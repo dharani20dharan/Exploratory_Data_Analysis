{
 "cells": [
  {
   "cell_type": "code",
   "execution_count": 5,
   "metadata": {},
   "outputs": [
    {
     "name": "stdout",
     "output_type": "stream",
     "text": [
      "    fixed_acidity  volatile_acidity  citric_acid  residual_sugar  chlorides  \\\n",
      "0             7.4             0.700         0.00             1.9      0.076   \n",
      "1             7.8             0.880         0.00             2.6      0.098   \n",
      "2             7.8             0.760         0.04             2.3      0.092   \n",
      "3            11.2             0.280         0.56             1.9      0.075   \n",
      "4             7.4             0.700         0.00             1.9      0.076   \n",
      "5             7.4             0.660         0.00             1.8      0.075   \n",
      "6             7.9             0.600         0.06             1.6      0.069   \n",
      "7             7.3             0.650         0.00             1.2      0.065   \n",
      "8             7.8             0.580         0.02             2.0      0.073   \n",
      "9             6.7             0.580         0.08             1.8      0.097   \n",
      "10            5.6             0.615         0.00             1.6      0.089   \n",
      "11            7.8             0.610         0.29             1.6      0.114   \n",
      "12            8.5             0.280         0.56             1.8      0.092   \n",
      "13            7.9             0.320         0.51             1.8      0.341   \n",
      "14            7.6             0.390         0.31             2.3      0.082   \n",
      "15            7.9             0.430         0.21             1.6      0.106   \n",
      "16            8.5             0.490         0.11             2.3      0.084   \n",
      "17            6.9             0.400         0.14             2.4      0.085   \n",
      "18            6.3             0.390         0.16             1.4      0.080   \n",
      "19            7.6             0.410         0.24             1.8      0.080   \n",
      "\n",
      "    free_sulfur_dioxide  total_sulfur_dioxide  density    pH  sulphates  \\\n",
      "0                  11.0                  34.0   0.9978  3.51       0.56   \n",
      "1                  25.0                  67.0   0.9968  3.20       0.68   \n",
      "2                  15.0                  54.0   0.9970  3.26       0.65   \n",
      "3                  17.0                  60.0   0.9980  3.16       0.58   \n",
      "4                  11.0                  34.0   0.9978  3.51       0.56   \n",
      "5                  13.0                  40.0   0.9978  3.51       0.56   \n",
      "6                  15.0                  59.0   0.9964  3.30       0.46   \n",
      "7                  15.0                  21.0   0.9946  3.39       0.47   \n",
      "8                   9.0                  18.0   0.9968  3.36       0.57   \n",
      "9                  15.0                  65.0   0.9959  3.28       0.54   \n",
      "10                 16.0                  59.0   0.9943  3.58       0.52   \n",
      "11                  9.0                  29.0   0.9974  3.26       1.56   \n",
      "12                 35.0                 103.0   0.9969  3.30       0.75   \n",
      "13                 17.0                  56.0   0.9969  3.04       1.08   \n",
      "14                 23.0                  71.0   0.9982  3.52       0.65   \n",
      "15                 10.0                  37.0   0.9966  3.17       0.91   \n",
      "16                  9.0                  67.0   0.9968  3.17       0.53   \n",
      "17                 21.0                  40.0   0.9968  3.43       0.63   \n",
      "18                 11.0                  23.0   0.9955  3.34       0.56   \n",
      "19                  4.0                  11.0   0.9962  3.28       0.59   \n",
      "\n",
      "    alcohol  quality  Id  \n",
      "0       9.4        5   0  \n",
      "1       9.8        5   1  \n",
      "2       9.8        5   2  \n",
      "3       9.8        6   3  \n",
      "4       9.4        5   4  \n",
      "5       9.4        5   5  \n",
      "6       9.4        5   6  \n",
      "7      10.0        7   7  \n",
      "8       9.5        7   8  \n",
      "9       9.2        5  10  \n",
      "10      9.9        5  12  \n",
      "11      9.1        5  13  \n",
      "12     10.5        7  16  \n",
      "13      9.2        6  19  \n",
      "14      9.7        5  21  \n",
      "15      9.5        5  22  \n",
      "16      9.4        5  23  \n",
      "17      9.7        6  24  \n",
      "18      9.3        5  25  \n",
      "19      9.5        5  26  \n"
     ]
    }
   ],
   "source": [
    "import numpy as np\n",
    "import pandas as pd\n",
    "df = pd.read_csv(\"WineQT.csv\")\n",
    "print(df.head(20))"
   ]
  },
  {
   "cell_type": "code",
   "execution_count": 6,
   "metadata": {},
   "outputs": [
    {
     "name": "stdout",
     "output_type": "stream",
     "text": [
      "(1143, 13)\n"
     ]
    }
   ],
   "source": [
    "print(df.shape)"
   ]
  },
  {
   "cell_type": "code",
   "execution_count": 7,
   "metadata": {},
   "outputs": [
    {
     "name": "stdout",
     "output_type": "stream",
     "text": [
      "<bound method DataFrame.info of       fixed_acidity  volatile_acidity  citric_acid  residual_sugar  chlorides  \\\n",
      "0               7.4             0.700         0.00             1.9      0.076   \n",
      "1               7.8             0.880         0.00             2.6      0.098   \n",
      "2               7.8             0.760         0.04             2.3      0.092   \n",
      "3              11.2             0.280         0.56             1.9      0.075   \n",
      "4               7.4             0.700         0.00             1.9      0.076   \n",
      "...             ...               ...          ...             ...        ...   \n",
      "1138            6.3             0.510         0.13             2.3      0.076   \n",
      "1139            6.8             0.620         0.08             1.9      0.068   \n",
      "1140            6.2             0.600         0.08             2.0      0.090   \n",
      "1141            5.9             0.550         0.10             2.2      0.062   \n",
      "1142            5.9             0.645         0.12             2.0      0.075   \n",
      "\n",
      "      free_sulfur_dioxide  total_sulfur_dioxide  density    pH  sulphates  \\\n",
      "0                    11.0                  34.0  0.99780  3.51       0.56   \n",
      "1                    25.0                  67.0  0.99680  3.20       0.68   \n",
      "2                    15.0                  54.0  0.99700  3.26       0.65   \n",
      "3                    17.0                  60.0  0.99800  3.16       0.58   \n",
      "4                    11.0                  34.0  0.99780  3.51       0.56   \n",
      "...                   ...                   ...      ...   ...        ...   \n",
      "1138                 29.0                  40.0  0.99574  3.42       0.75   \n",
      "1139                 28.0                  38.0  0.99651  3.42       0.82   \n",
      "1140                 32.0                  44.0  0.99490  3.45       0.58   \n",
      "1141                 39.0                  51.0  0.99512  3.52       0.76   \n",
      "1142                 32.0                  44.0  0.99547  3.57       0.71   \n",
      "\n",
      "      alcohol  quality    Id  \n",
      "0         9.4        5     0  \n",
      "1         9.8        5     1  \n",
      "2         9.8        5     2  \n",
      "3         9.8        6     3  \n",
      "4         9.4        5     4  \n",
      "...       ...      ...   ...  \n",
      "1138     11.0        6  1592  \n",
      "1139      9.5        6  1593  \n",
      "1140     10.5        5  1594  \n",
      "1141     11.2        6  1595  \n",
      "1142     10.2        5  1597  \n",
      "\n",
      "[1143 rows x 13 columns]>\n"
     ]
    }
   ],
   "source": [
    "print(df.info)"
   ]
  },
  {
   "cell_type": "code",
   "execution_count": 8,
   "metadata": {},
   "outputs": [
    {
     "name": "stdout",
     "output_type": "stream",
     "text": [
      "      fixed_acidity  volatile_acidity  citric_acid  residual_sugar  chlorides  \\\n",
      "0.25            7.1            0.3925         0.09             1.9       0.07   \n",
      "0.75            9.1            0.6400         0.42             2.6       0.09   \n",
      "\n",
      "      free_sulfur_dioxide  total_sulfur_dioxide   density     pH  sulphates  \\\n",
      "0.25                  7.0                  21.0  0.995570  3.205       0.55   \n",
      "0.75                 21.0                  61.0  0.997845  3.400       0.73   \n",
      "\n",
      "      alcohol  quality      Id  \n",
      "0.25      9.5      5.0   411.0  \n",
      "0.75     11.1      6.0  1209.5  \n"
     ]
    }
   ],
   "source": [
    "print(df.quantile([0.25,0.75]))"
   ]
  }
 ],
 "metadata": {
  "kernelspec": {
   "display_name": "base",
   "language": "python",
   "name": "python3"
  },
  "language_info": {
   "codemirror_mode": {
    "name": "ipython",
    "version": 3
   },
   "file_extension": ".py",
   "mimetype": "text/x-python",
   "name": "python",
   "nbconvert_exporter": "python",
   "pygments_lexer": "ipython3",
   "version": "3.12.4"
  }
 },
 "nbformat": 4,
 "nbformat_minor": 2
}
